{
 "cells": [
  {
   "cell_type": "markdown",
   "metadata": {},
   "source": [
    "Manipulating Time Series Data in R: Case Studies"
   ]
  },
  {
   "cell_type": "code",
   "execution_count": null,
   "metadata": {},
   "outputs": [],
   "source": [
    "#View the structure of the flights data\n",
    "str(flights)\n",
    "\n",
    "#Examine the first five rows of the flights data\n",
    "head(flights, n = 5)\n",
    "\n",
    "#Identify class of the column containing date information\n",
    "class(flights$date)"
   ]
  },
  {
   "cell_type": "code",
   "execution_count": null,
   "metadata": {},
   "outputs": [],
   "source": [
    "# Load the xts package\n",
    "library(xts)\n",
    "\n",
    "# Convert date column to a time-based class\n",
    "flights$date <- as.Date(flights$date)\n",
    "\n",
    "# Convert flights to an xts object using as.xts\n",
    "flights_xts <- as.xts(flights [ , -5], order.by = flights$date)\n",
    "\n",
    "# Check the class of flights_xts\n",
    "class(flights_xts)\n",
    "\n",
    "# Examine the first five lines of flights_xts\n",
    "head(flights_xts, n=5)"
   ]
  },
  {
   "cell_type": "code",
   "execution_count": null,
   "metadata": {},
   "outputs": [],
   "source": [
    "# Identify the periodicity of flights_xts\n",
    "periodicity(flights_xts)\n",
    "\n",
    "# Identify the number of periods in flights_xts\n",
    "nmonths(flights_xts)\n",
    "\n",
    "# Find data on flights arriving in BOS in June 2014\n",
    "flights_xts[\"2014-06\"]"
   ]
  },
  {
   "cell_type": "code",
   "execution_count": null,
   "metadata": {},
   "outputs": [],
   "source": [
    "# Use plot.xts() to view total monthly flights into BOS over time\n",
    "plot.xts(flights_xts$total_flights)\n",
    "\n",
    "# Use plot.xts() to view monthly delayed flights into BOS over time\n",
    "plot.xts(flights_xts$delay_flights)\n",
    "\n",
    "# Use plot.zoo() to view all four columns of data in their own panels\n",
    "plot.zoo(flights_xts, plot.type = \"multiple\", ylab = labels)\n",
    "\n",
    "# Use plot.zoo() to view all four columns of data in one panel\n",
    "plot.zoo(flights_xts, plot.type = \"single\", lty = lty)\n",
    "legend(\"right\", lty = lty, legend = labels)"
   ]
  },
  {
   "cell_type": "code",
   "execution_count": null,
   "metadata": {},
   "outputs": [],
   "source": [
    "# Calculate percentage of flights delayed each month: pct_delay\n",
    "flights_xts$pct_delay <- (flights_xts$delay_flights / flights_xts$total_flights) * 100\n",
    "\n",
    "# Use plot.xts() to view pct_delay over time\n",
    "plot.xts(flights_xts$pct_delay)\n",
    "\n",
    "# Calculate percentage of flights cancelled each month: pct_cancel\n",
    "flights_xts$pct_cancel <- (flights_xts$cancel_flights / flights_xts$total_flights) * 100\n",
    "\n",
    "# Calculate percentage of flights diverted each month: pct_divert\n",
    "flights_xts$pct_divert <- (flights_xts$divert_flights / flights_xts$total_flights) * 100\n",
    "\n",
    "# Use plot.zoo() to view all three trends over time\n",
    "plot.zoo(x = flights_xts[ , c(\"pct_delay\", \"pct_cancel\", \"pct_divert\")])"
   ]
  },
  {
   "cell_type": "code",
   "execution_count": 1,
   "metadata": {},
   "outputs": [
    {
     "ename": "SyntaxError",
     "evalue": "invalid syntax (<ipython-input-1-72caeddccadf>, line 8)",
     "output_type": "error",
     "traceback": [
      "\u001b[1;36m  File \u001b[1;32m\"<ipython-input-1-72caeddccadf>\"\u001b[1;36m, line \u001b[1;32m8\u001b[0m\n\u001b[1;33m    class(flights_xts2)\u001b[0m\n\u001b[1;37m         ^\u001b[0m\n\u001b[1;31mSyntaxError\u001b[0m\u001b[1;31m:\u001b[0m invalid syntax\n"
     ]
    }
   ],
   "source": [
    "# Save your xts object to rds file using saveRDS\n",
    "saveRDS(object = flights_xts, file = \"flights_xts.rds\")\n",
    "\n",
    "# Read your flights_xts data from the rds file\n",
    "flights_xts2 <- readRDS(\"flights_xts.rds\")\n",
    "\n",
    "# Check the class of your new flights_xts2 object\n",
    "class(flights_xts2)\n",
    "\n",
    "# Examine the first five rows of your new flights_xts2 object\n",
    "head(flights_xts2,n=5)"
   ]
  },
  {
   "cell_type": "code",
   "execution_count": null,
   "metadata": {},
   "outputs": [],
   "source": [
    "\n",
    "# Export your xts object to a csv file using write.zoo\n",
    "write.zoo(flights_xts, file = \"flights_xts.csv\", sep = \",\")\n",
    "\n",
    "# Open your saved object using read.zoo\n",
    "flights2 <- read.zoo(\"flights_xts.csv\", sep = \",\", FUN = as.Date, header = TRUE, index.column = 1)\n",
    "\n",
    "# Encode your new object back into xts\n",
    "flights_xts2 <- as.xts(flights2)\n",
    "\n",
    "# Examine the first five rows of your new flights_xts2 object\n",
    "head(flights_xts2,n=5)"
   ]
  },
  {
   "cell_type": "code",
   "execution_count": null,
   "metadata": {},
   "outputs": [],
   "source": [
    "# View the structure of each object\n",
    "str(temps_1)\n",
    "str(temps_2)\n",
    "\n",
    "# View the first and last rows of temps_1\n",
    "head(temps_1)\n",
    "tail(temps_1)\n",
    "\n",
    "# View the first and last rows of temps_2\n",
    "head(temps_2)\n",
    "tail(temps_2)"
   ]
  },
  {
   "cell_type": "code",
   "execution_count": null,
   "metadata": {},
   "outputs": [],
   "source": [
    "# Confirm that the date column in each object is a time-based class\n",
    "class(temps_1$date)\n",
    "class(temps_2$date)\n",
    "\n",
    "# Encode your two temperature data frames as xts objects\n",
    "temps_1_xts <- as.xts(temps_1[, -4], order.by = temps_1$date)\n",
    "temps_2_xts <- as.xts(temps_2[, -4], order.by = temps_2$date)\n",
    "\n",
    "# View the first few lines of each new xts object to confirm they are properly formatted\n",
    "head(temps_1_xts)\n",
    "head(temps_2_xts)\n",
    "\n",
    "# Use rbind to merge your new xts objects\n",
    "temps_xts <- rbind(temps_1_xts,temps_2_xts)\n",
    "\n",
    "# View data for the first 3 days of the last month of the first year in temps_xts\n",
    "first(last(first(temps_xts, \"1 year\"), \"1 month\"), \"3 days\")"
   ]
  },
  {
   "cell_type": "code",
   "execution_count": null,
   "metadata": {},
   "outputs": [],
   "source": [
    "# Identify the periodicity of temps_xts\n",
    "periodicity(temps_xts)\n",
    "\n",
    "# Generate a plot of mean Boston temperature for the duration of your data\n",
    "plot.xts(temps_xts$mean)\n",
    "\n",
    "# Generate a plot of mean Boston temperature from November 2010 through April 2011\n",
    "plot.xts(temps_xts$mean[\"20101101/20110430\"])\n",
    "\n",
    "# Use plot.zoo to generate a single plot showing mean, max, and min temperatures during the same period \n",
    "plot.zoo(temps_xts[\"20101101/20110430\"], plot.type = \"single\", lty = lty)"
   ]
  },
  {
   "cell_type": "code",
   "execution_count": null,
   "metadata": {},
   "outputs": [],
   "source": [
    "# Subset your temperature data to include only 2010 through 2015: temps_xts_2\n",
    "temps_xts_2 <- temps_xts[\"20100101/20151231\"]\n",
    "\n",
    "# Use to.period to convert temps_xts_2 to monthly periodicity\n",
    "temps_monthly <- to.period(temps_xts_2, period = \"months\", OHLC = F, indexAt = \"firstof\")\n",
    "\n",
    "# Compare the periodicity and duration of temps_monthly and flights_xts \n",
    "periodicity(temps_monthly)\n",
    "periodicity(flights_xts)"
   ]
  },
  {
   "cell_type": "code",
   "execution_count": null,
   "metadata": {},
   "outputs": [],
   "source": [
    "# Use merge to combine your flights and temperature objects\n",
    "flights_temps <- merge(flights_xts, temps_monthly)\n",
    "\n",
    "# Examine the first few rows of your combined xts object\n",
    "head(flights_temps)\n",
    "\n",
    "# Use plot.zoo to plot these two columns in a single panel\n",
    "plot.zoo(flights_temps[,c(\"pct_delay\", \"temps_monthly\")], plot.type = \"single\", lty = lty)\n",
    "legend(\"topright\", lty = lty, legend = labels, bg = \"white\")"
   ]
  },
  {
   "cell_type": "code",
   "execution_count": null,
   "metadata": {},
   "outputs": [],
   "source": [
    "# Confirm the periodicity and duration of the vis and wind data\n",
    "periodicity(vis)\n",
    "periodicity(wind)\n",
    "\n",
    "# Merge vis and wind with your existing flights_temps data\n",
    "flights_weather <- merge(flights_temps,vis,wind) \n",
    "\n",
    "# View the first few rows of your flights_weather data\n",
    "head(flights_weather)"
   ]
  },
  {
   "cell_type": "code",
   "execution_count": null,
   "metadata": {},
   "outputs": [],
   "source": [
    "# Get a summary of your GDP data\n",
    "summary(gdp)\n",
    "\n",
    "# Convert GDP date column to time object\n",
    "gdp$date <- as.yearqtr(gdp$date)\n",
    "\n",
    "# Convert GDP data to xts\n",
    "gdp_xts <- as.xts(gdp[, -1], order.by = gdp$date)\n",
    "\n",
    "# Plot GDP data over time\n",
    "plot.xts(gdp_xts)"
   ]
  },
  {
   "cell_type": "code",
   "execution_count": null,
   "metadata": {},
   "outputs": [],
   "source": [
    "\n",
    "# Fill NAs in gdp_xts with the last observation carried forward\n",
    "gdp_locf <- na.locf(gdp_xts)\n",
    "\n",
    "# Fill NAs in gdp_xts with the next observation carried backward \n",
    "gdp_nocb <- na.locf(gdp_xts,fromLast=T)\n",
    "\n",
    "# Produce a plot for each of your new xts objects\n",
    "par(mfrow = c(2,1))\n",
    "plot.xts(gdp_locf, major.format = \"%Y\")\n",
    "plot.xts(gdp_nocb, major.format = \"%Y\")\n",
    "\n",
    "# Query for GDP in 1993 in both gdp_locf and gdp_nocb\n",
    "gdp_locf[\"1993\"]\n",
    "gdp_nocb[\"1993\"]\n"
   ]
  },
  {
   "cell_type": "code",
   "execution_count": null,
   "metadata": {},
   "outputs": [],
   "source": [
    "# Fill NAs in gdp_xts using linear approximation\n",
    "gdp_approx <- na.approx(gdp_xts)\n",
    "\n",
    "# Plot your new xts object\n",
    "plot.xts(gdp_approx, major.format = \"%Y\")\n",
    "  \n",
    "# Query for GDP in 1993 in gdp_approx\n",
    "gdp_approx[\"1993\"]"
   ]
  },
  {
   "cell_type": "code",
   "execution_count": null,
   "metadata": {},
   "outputs": [],
   "source": [
    "# View a summary of your unemployment data\n",
    "summary(unemployment)\n",
    "\n",
    "# Use na.approx to remove missing values in unemployment data\n",
    "unemployment <- na.approx(unemployment)\n",
    "\n",
    "# Plot new unemployment data\n",
    "plot.zoo(unemployment, plot.type = \"single\", lty = lty)\n",
    "legend(\"topright\", lty = lty, legend = labels, bg = \"white\")"
   ]
  },
  {
   "cell_type": "code",
   "execution_count": null,
   "metadata": {},
   "outputs": [],
   "source": [
    "# Create a one month lag of US unemployment\n",
    "us_monthlag <- lag(unemployment$us, k = 1)\n",
    "\n",
    "# Create a one year lag of US unemployment\n",
    "us_yearlag <- lag(unemployment$us, k = 12)\n",
    "\n",
    "# Merge your original data with your new lags \n",
    "unemployment_lags <- merge(unemployment, us_monthlag, us_yearlag)\n",
    "\n",
    "# View the first 15 rows of unemployment_lags\n",
    "head(unemployment_lags,n=15)"
   ]
  },
  {
   "cell_type": "code",
   "execution_count": null,
   "metadata": {},
   "outputs": [],
   "source": [
    "# Generate monthly difference in unemployment\n",
    "unemployment$us_monthlydiff <- diff(unemployment$us, lag = 1, differences = 1)\n",
    "\n",
    "unemployment$us_yearlydiff <- \n",
    "# Generate yearly difference in unemployment\n",
    "unemployment$us_yearlydiff <- diff(unemployment$us, lag = 12, differences = 1)\n",
    "\n",
    "# Plot US unemployment and annual difference\n",
    "par(mfrow = c(2,1))\n",
    "plot.xts(unemployment$us)\n",
    "plot.xts(unemployment$us_yearlydiff, type = \"h\")"
   ]
  },
  {
   "cell_type": "code",
   "execution_count": null,
   "metadata": {},
   "outputs": [],
   "source": [
    "# Add a quarterly difference in gdp\n",
    "gdp$quarterly_diff <- diff(gdp$gdp , lag = 1, differences = 1)\n",
    "\n",
    "# Split gdp$quarterly_diff into years\n",
    "gdpchange_years <- split(gdp$quarterly_diff, f = \"years\")\n",
    "\n",
    "# Use lapply to calculate the cumsum each year\n",
    "gdpchange_ytd <- lapply(gdpchange_years, FUN = cumsum)\n",
    "\n",
    "# Use do.call to rbind the results\n",
    "gdpchange_xts <- do.call(rbind, gdpchange_ytd)\n",
    "\n",
    "# Plot cumulative year-to-date change in GDP\n",
    "plot.xts(gdpchange_xts, type = \"h\")"
   ]
  },
  {
   "cell_type": "code",
   "execution_count": null,
   "metadata": {},
   "outputs": [],
   "source": [
    "# Use rollapply to calculate the rolling yearly average US unemployment\n",
    "unemployment$year_avg <- rollapply(unemployment$us, width = 12, FUN = mean)\n",
    "\n",
    "# Plot all columns of US unemployment data\n",
    "plot.zoo(unemployment[, c(\"us\", \"year_avg\")], plot.type = \"single\", lty = lty, lwd = lwd)"
   ]
  },
  {
   "cell_type": "code",
   "execution_count": null,
   "metadata": {},
   "outputs": [],
   "source": [
    "# Add a one-year lag of MA unemployment\n",
    "unemployment$ma_yearlag <- lag(unemployment$ma,k=12)\n",
    "\n",
    "# Add a six-month difference of MA unemployment\n",
    "unemployment$ma_sixmonthdiff <- diff(unemployment$ma,lag=6) \n",
    "\n",
    "# Add a six-month rolling average of MA unemployment\n",
    "unemployment$ma_sixmonthavg <- rollapply(unemployment$ma,width=6,FUN=mean)\n",
    "  \n",
    "# Add a yearly rolling maximum of MA unemployment\n",
    "unemployment$ma_yearmax <- rollapply(unemployment$ma,width=12,FUN=max)\n",
    "\n",
    "# View the last year of unemployment data\n",
    "tail(unemployment, n=12)"
   ]
  },
  {
   "cell_type": "code",
   "execution_count": null,
   "metadata": {},
   "outputs": [],
   "source": [
    "# View summary information about your redsox data\n",
    "summary(redsox)\n",
    "\n",
    "# Convert the date column to a time-based format\n",
    "redsox$date <- as.Date(redsox$date)\n",
    "\n",
    "# Convert your red sox data to xts\n",
    "redsox_xts <- as.xts(redsox[,-1], order.by = redsox$date)\n",
    "\n",
    "# Plot the Red Sox score and the opponent score over time\n",
    "plot.zoo(redsox_xts[, c(\"boston_score\", \"opponent_score\")])"
   ]
  },
  {
   "cell_type": "code",
   "execution_count": null,
   "metadata": {},
   "outputs": [],
   "source": [
    "\n",
    "# Generate a new variable coding for red sox wins\n",
    "redsox_xts$win_loss <- ifelse(redsox_xts$boston_score > redsox_xts$opponent_score, 1, 0)\n",
    "\n",
    "# Identify the date of the last game each season\n",
    "close <- endpoints(redsox_xts, on = \"years\")\n",
    "\n",
    "# Calculate average win/loss record at the end of each season\n",
    "period.apply(redsox_xts[, \"win_loss\"], close, mean)"
   ]
  },
  {
   "cell_type": "code",
   "execution_count": null,
   "metadata": {},
   "outputs": [],
   "source": [
    "# Select only the 2013 season\n",
    "redsox_2013 <- redsox_xts[\"2013\"]\n",
    "\n",
    "# Use rollapply to generate the last ten average\n",
    "lastten_2013 <- rollapply(redsox_2013$win_loss, width = 10, FUN = mean)\n",
    "\n",
    "# Plot the last ten average during the 2013 season\n",
    "plot.xts(lastten_2013, ylim = c(0, 1))"
   ]
  },
  {
   "cell_type": "code",
   "execution_count": null,
   "metadata": {},
   "outputs": [],
   "source": [
    "# Generate a subset of sports data with only homegames\n",
    "homegames <- sports[sports$homegame == 1]\n",
    "\n",
    "# Calculate the win/loss average of the last 20 home games\n",
    "homegames$win_loss_20 <- rollapply(homegames$win_loss, width = 20, FUN = mean)\n",
    "\n",
    "# Calculate the win/loss average of the last 100 home games\n",
    "homegames$win_loss_100 <- rollapply(homegames$win_loss,width=100,FUN=mean)\n",
    "\n",
    "# Use plot.xts to generate\n",
    "plot.zoo(homegames[, c(\"win_loss_20\", \"win_loss_100\")], plot.type = \"single\", lty = lty, lwd = lwd)"
   ]
  }
 ],
 "metadata": {
  "kernelspec": {
   "display_name": "Python 3",
   "language": "python",
   "name": "python3"
  },
  "language_info": {
   "codemirror_mode": {
    "name": "ipython",
    "version": 3
   },
   "file_extension": ".py",
   "mimetype": "text/x-python",
   "name": "python",
   "nbconvert_exporter": "python",
   "pygments_lexer": "ipython3",
   "version": "3.7.0b4"
  }
 },
 "nbformat": 4,
 "nbformat_minor": 2
}
